{
 "cells": [
  {
   "cell_type": "markdown",
   "id": "47482849-c550-450c-aab6-c157db45b425",
   "metadata": {
    "tags": []
   },
   "source": [
    "Python 中列表的元素类型可以是任意类型，列表需要保存每个元素的指针；\n",
    "\n",
    "NumPy 数组 `ndarray` 的元素只能是同一种类型，数值运算通常在同一种类型的数据之间进行；\n",
    "\n",
    "*张量*（tensor）是矩阵在任意维度上的推广；张量的维度通常称为*轴*（axis）；\n",
    "- 0D 张量就是一个数字，一维数组也称为 1D 张量，二维数组是 2D 张量，以此类推；"
   ]
  },
  {
   "cell_type": "code",
   "execution_count": 3,
   "id": "72fc52bd-0849-4006-9de4-20ab2f121cc1",
   "metadata": {
    "tags": []
   },
   "outputs": [
    {
     "name": "stdout",
     "output_type": "stream",
     "text": [
      "NumPy version: 1.23.5\n"
     ]
    }
   ],
   "source": [
    "import numpy as np\n",
    "\n",
    "print('NumPy version:', np.__version__)"
   ]
  },
  {
   "cell_type": "markdown",
   "id": "fa5978d6-056b-4aac-b3d6-28dc2cb3f0d6",
   "metadata": {},
   "source": [
    "## 构造数组"
   ]
  },
  {
   "cell_type": "markdown",
   "id": "da66532b-7025-4ae2-a7a1-3c9044c738e5",
   "metadata": {},
   "source": [
    "### 用 `array()` 方法生成 NumPy 数组"
   ]
  },
  {
   "cell_type": "code",
   "execution_count": 19,
   "id": "e78a48bf-e20f-4bb5-a9eb-f3adde267a93",
   "metadata": {
    "tags": []
   },
   "outputs": [
    {
     "name": "stdout",
     "output_type": "stream",
     "text": [
      "[6.  8.5 9.  0. ] <class 'numpy.ndarray'> float64\n",
      "[6 8 9 0] int32\n",
      "[[1 2 3]\n",
      " [4 5 6]] int64\n"
     ]
    }
   ],
   "source": [
    "data = [6, 8.5, 9, 0]\n",
    "arr = np.array(data)\n",
    "# dtype 是数组元素的类型\n",
    "print(arr, type(arr), arr.dtype)\n",
    "arr = arr.astype(np.int32)\n",
    "print(arr, arr.dtype)\n",
    "\n",
    "data_2d = [[1, 2, 3], [4, 5, 6]]\n",
    "arr_2d = np.array(data_2d)\n",
    "print(arr_2d, arr_2d.dtype)"
   ]
  },
  {
   "cell_type": "markdown",
   "id": "5a53ba73-851f-4a90-993c-066402661d22",
   "metadata": {
    "tags": []
   },
   "source": [
    "### 用 `arange()`，`linspace()` 生成 NumPy 数组"
   ]
  },
  {
   "cell_type": "code",
   "execution_count": 27,
   "id": "0d0bfd9b-da62-4487-beea-e491b9a0f49c",
   "metadata": {
    "tags": []
   },
   "outputs": [
    {
     "name": "stdout",
     "output_type": "stream",
     "text": [
      "[0 1 2 3] <class 'numpy.ndarray'>\n",
      "[3 4 5 6]\n",
      "range(0, 4) <class 'range'>\n",
      "[ 1.          2.28571429  3.57142857  4.85714286  6.14285714  7.42857143\n",
      "  8.71428571 10.        ]\n"
     ]
    }
   ],
   "source": [
    "arr3 = np.arange(4)\n",
    "print(arr3, type(arr3))\n",
    "arr3 += 3\n",
    "print(arr3)\n",
    "\n",
    "arr4 = range(4)\n",
    "print(arr4, type(arr4))\n",
    "\n",
    "arr4 = np.linspace(1, 10, 8)\n",
    "print(arr4)"
   ]
  },
  {
   "cell_type": "markdown",
   "id": "d392fcdb-db08-444c-969d-6860cb431664",
   "metadata": {},
   "source": [
    "### 填充数组"
   ]
  },
  {
   "cell_type": "code",
   "execution_count": 36,
   "id": "23ac4c5b-3997-4e00-a7d0-64483db018b5",
   "metadata": {
    "tags": []
   },
   "outputs": [
    {
     "name": "stdout",
     "output_type": "stream",
     "text": [
      "[[0. 0. 0. 0.]\n",
      " [0. 0. 0. 0.]\n",
      " [0. 0. 0. 0.]]\n",
      "[[0 1 2]\n",
      " [3 4 5]]\n",
      "[[1 1 1]\n",
      " [1 1 1]]\n"
     ]
    }
   ],
   "source": [
    "zeros = np.zeros((3, 4))\n",
    "zeros = np.zeros(shape = (3, 4))\n",
    "zeros = np.zeros(shape = [3, 4])\n",
    "print(zeros)\n",
    "# zeros_like()\n",
    "\n",
    "arr5 = np.arange(6)\n",
    "arr5 = arr5.reshape((2, 3))\n",
    "print(arr5)\n",
    "print(np.ones_like(arr5))\n",
    "# ones()\n",
    "\n",
    "# empty_like(), full_like()"
   ]
  },
  {
   "cell_type": "markdown",
   "id": "0a39f5ce-34e9-4f1c-89e0-4ec861961bc5",
   "metadata": {},
   "source": [
    "## 数组属性\n"
   ]
  },
  {
   "cell_type": "code",
   "execution_count": 48,
   "id": "f0533f89-0755-405e-ac44-f14cff8c0e47",
   "metadata": {
    "tags": []
   },
   "outputs": [
    {
     "name": "stdout",
     "output_type": "stream",
     "text": [
      "[1.  1.5 2.  2.5 3.  3.5 4.  4.5] \n",
      "dimension: 1 shape: (8,)\n",
      "[[ 0  1  2  3  4]\n",
      " [ 5  6  7  8  9]\n",
      " [10 11 12 13 14]] \n",
      "dimension: 2 shape: (3, 5)\n",
      "[[[ 0  1  2  3  4]\n",
      "  [ 5  6  7  8  9]\n",
      "  [10 11 12 13 14]]\n",
      "\n",
      " [[15 16 17 18 19]\n",
      "  [20 21 22 23 24]\n",
      "  [25 26 27 28 29]]] \n",
      "dimension: 3 shape: (2, 3, 5)\n"
     ]
    }
   ],
   "source": [
    "import numpy as np\n",
    "\n",
    "arr_1d = np.arange(1, 5, 0.5)\n",
    "print(arr_1d, '\\ndimension:', arr_1d.ndim, 'shape:', arr_1d.shape)\n",
    "\n",
    "arr_2d = np.arange(15).reshape(3, 5)\n",
    "print(arr_2d, '\\ndimension:', arr_2d.ndim, 'shape:', arr_2d.shape)\n",
    "\n",
    "arr_3d = np.arange(30).reshape(2, 3, 5)\n",
    "print(arr_3d, '\\ndimension:', arr_3d.ndim, 'shape:', arr_3d.shape)"
   ]
  },
  {
   "cell_type": "markdown",
   "id": "f3d72b91-000b-4784-b922-363e148becc1",
   "metadata": {
    "tags": []
   },
   "source": [
    "## 数组运算"
   ]
  },
  {
   "cell_type": "markdown",
   "id": "25a131d9-8bd4-4974-ab28-215143b6e25a",
   "metadata": {},
   "source": [
    "### 向量运算\n",
    "\n",
    "*向量*：把一组数字排成一行（行向量）或一列（列向量）；\n",
    "- 列向量对于向量坐标变换、空间映射而言更方便，因而一般都用列的形式表示向量；"
   ]
  },
  {
   "cell_type": "code",
   "execution_count": 81,
   "id": "b8459309-74d9-4dfc-aeee-81614f09efec",
   "metadata": {
    "tags": []
   },
   "outputs": [
    {
     "name": "stdout",
     "output_type": "stream",
     "text": [
      "[12, 14, 16, 18]\n",
      "[12 14 16 18]\n"
     ]
    }
   ],
   "source": [
    "# 普通做法\n",
    "list1 = [1, 2, 3, 4]\n",
    "list2 = [11, 12, 13, 14]\n",
    "list3 = [ele1 + ele2 for ele1, ele2 in zip(list1, list2)]\n",
    "print(list3)\n",
    "\n",
    "# NumPy\n",
    "list1_arr = np.array(list1)\n",
    "list2_arr = np.array(list2)\n",
    "print(list1_arr + list2_arr)"
   ]
  },
  {
   "cell_type": "markdown",
   "id": "25b9abdc-0bcb-4804-a11c-559e748c7fa2",
   "metadata": {},
   "source": [
    "### 算数运算"
   ]
  },
  {
   "cell_type": "markdown",
   "id": "2e47471b-3744-43d4-8edb-7e4a4a3fd656",
   "metadata": {},
   "source": [
    "数组的 shape 相同，就能进行加、减、乘、除、取余、指数等运算；运算逐个元素进行；"
   ]
  },
  {
   "cell_type": "code",
   "execution_count": 59,
   "id": "0fc3f31a-0b33-4739-a7be-2f1cc2e2c55e",
   "metadata": {
    "tags": []
   },
   "outputs": [],
   "source": [
    "# 中位数\n",
    "# np.median?\n",
    "\n",
    "# 方差\n",
    "# np.var?\n",
    "\n",
    "# 加权平均\n",
    "# np.average?\n",
    "\n",
    "# 算数平均\n",
    "# np.mean?"
   ]
  },
  {
   "cell_type": "markdown",
   "id": "cc84b832-70a3-4d70-9114-cfdb00044469",
   "metadata": {},
   "source": [
    "### 逐元素运算与张量的点乘运算\n",
    "\n",
    "NumPy 中的数组（或张量）运算基于基础线性代数子程序集（Basic Linear Algebra Subprograms，BLAS）实现；\n",
    "\n",
    "BLAS 是一个更底层的高度并行的经过优化的张量操作程序，通常用 Fortran、C 编写；"
   ]
  },
  {
   "cell_type": "code",
   "execution_count": 79,
   "id": "f79346f1-39d7-42b8-b7c3-8ab328f2cc86",
   "metadata": {
    "tags": []
   },
   "outputs": [
    {
     "name": "stdout",
     "output_type": "stream",
     "text": [
      "[[2 4]\n",
      " [6 8]]\n",
      "[[2 4]\n",
      " [6 8]]\n",
      "\n",
      " [[0 1 2]\n",
      " [3 4 5]\n",
      " [6 7 8]] \n",
      "\n",
      " [[1. 1.]\n",
      " [1. 1.]\n",
      " [1. 1.]] \n",
      "\n",
      "[[ 3.  3.]\n",
      " [12. 12.]\n",
      " [21. 21.]] \n",
      "\n",
      " [[ 3.  3.]\n",
      " [12. 12.]\n",
      " [21. 21.]]\n",
      "\n",
      " [[ 3.  3.]\n",
      " [12. 12.]\n",
      " [21. 21.]]\n"
     ]
    },
    {
     "data": {
      "text/plain": [
       "array([[0.21838395, 0.30239568, 0.72797182],\n",
       "       [0.6692076 , 0.83616157, 0.46729998],\n",
       "       [0.51419869, 0.59233426, 0.49675784]])"
      ]
     },
     "execution_count": 79,
     "metadata": {},
     "output_type": "execute_result"
    }
   ],
   "source": [
    "# 逐元素\n",
    "arr1 = np.array([[1, 2], [3, 4]])\n",
    "arr2 = np.full((2, 2), 2)\n",
    "print(arr1 * arr2)\n",
    "print(np.multiply(arr1, arr2))\n",
    "\n",
    "# 点乘\n",
    "arr3 = np.arange(9).reshape(3, 3)\n",
    "# 第一个矩阵的列数与第二个矩阵的行数相等\n",
    "arr4 = np.ones((3, 2))\n",
    "print('\\n', arr3, '\\n\\n', arr4, '\\n')\n",
    "# @ 等价于 np.dot()\n",
    "print(np.dot(arr3, arr4), '\\n\\n', arr3@arr4)\n",
    "\n",
    "# 先转成矩阵后再直接乘\n",
    "print('\\n', np.mat(arr3) * np.mat(arr4))\n",
    "\n",
    "mat33 = np.mat(np.random.random((3, 3)))\n",
    "# 逆矩阵\n",
    "mat33.I\n",
    "# 转置矩阵\n",
    "mat33.T\n",
    "# 对应的二维数组\n",
    "mat33.A"
   ]
  },
  {
   "cell_type": "markdown",
   "id": "1347b883-176b-4ce7-90ef-bcb495f5f67e",
   "metadata": {},
   "source": [
    "## 爱因斯坦求和约定 Einstein Summation Convention"
   ]
  },
  {
   "cell_type": "markdown",
   "id": "ad8f5e95-7ea7-4324-8af6-cc6ad6104021",
   "metadata": {
    "tags": []
   },
   "source": [
    "向量点乘公式：$s = \\sum\\limits_iv_iw_i$\n",
    "- 包含 $i$ 个元素的一维数组和每维只有一个元素的 $i$ 维数组相乘；\n",
    "\n",
    "爱因斯坦求和公式：$s = v_iw^i$\n",
    "- 下标表示行向量中的元素，上标表示列向量中的元素；\n",
    "\n",
    "矩阵 $A$ 的第 $m$ 行第 $n$ 列标记为 $A_n^m$；非爱因斯坦标记法则是 $A_{mn}$；\n",
    "\n",
    "内积：\n",
    "- 参与内积运算的两个向量维数必须相等，运算规则是将对应位置的元素相乘，然后相加合并，最终运算结果是一个标量；\n"
   ]
  },
  {
   "cell_type": "code",
   "execution_count": null,
   "id": "c397d517-160b-48bf-b207-271be5ba6943",
   "metadata": {},
   "outputs": [],
   "source": []
  }
 ],
 "metadata": {
  "kernelspec": {
   "display_name": "Python 3 (ipykernel)",
   "language": "python",
   "name": "python3"
  },
  "language_info": {
   "codemirror_mode": {
    "name": "ipython",
    "version": 3
   },
   "file_extension": ".py",
   "mimetype": "text/x-python",
   "name": "python",
   "nbconvert_exporter": "python",
   "pygments_lexer": "ipython3",
   "version": "3.10.9"
  }
 },
 "nbformat": 4,
 "nbformat_minor": 5
}
