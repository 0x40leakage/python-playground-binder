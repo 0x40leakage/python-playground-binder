{
 "cells": [
  {
   "cell_type": "code",
   "execution_count": 46,
   "id": "90eea0ae-5f9a-4134-8ba7-9caf35cfb021",
   "metadata": {
    "tags": []
   },
   "outputs": [
    {
     "name": "stdout",
     "output_type": "stream",
     "text": [
      "<_io.TextIOWrapper name='test_data/io.txt' mode='r' encoding='UTF-8'>\n",
      "offset: 0\n",
      "line 1\n",
      "line 2\n",
      "line 3\n",
      "line 4\n",
      "write line 5\n",
      "write line 6\n",
      "write line 7\n",
      "write line 8\n",
      "offset: 79\n",
      "\n",
      "after seek(0)\n",
      "line 1\n",
      "line 2\n",
      "line 3\n",
      "line 4\n",
      "write line 5\n",
      "write line 6\n",
      "write line 7\n",
      "write line 8\n"
     ]
    }
   ],
   "source": [
    "try:\n",
    "    fh = open('test_data/io.txt', 'r')\n",
    "    print(fh)\n",
    "    print('offset:', fh.tell())\n",
    "    for line in fh:\n",
    "        print(line, end='')\n",
    "    print()\n",
    "    print('offset:', fh.tell())\n",
    "    print(fh.read()) # 文件指针未复位\n",
    "    fh.seek(0)\n",
    "    print('after seek(0)')\n",
    "    print(fh.read())\n",
    "    # readline(), readlines()\n",
    "finally:\n",
    "    if fh:\n",
    "        fh.close()"
   ]
  },
  {
   "cell_type": "code",
   "execution_count": 47,
   "id": "185457f6-e0a5-4db6-a1df-17177dfca435",
   "metadata": {
    "tags": []
   },
   "outputs": [
    {
     "name": "stdout",
     "output_type": "stream",
     "text": [
      "line 1\n",
      "line 2\n",
      "line 3\n",
      "line 4\n",
      "write line 5\n",
      "write line 6\n",
      "write line 7\n",
      "write line 8\n"
     ]
    }
   ],
   "source": [
    "# with 语句会自动调用 close 方法\n",
    "with open('test_data/io.txt', 'r') as fh:\n",
    "    print(fh.read())"
   ]
  },
  {
   "cell_type": "code",
   "execution_count": 48,
   "id": "a0926705-608f-457b-8a68-398a303cd821",
   "metadata": {},
   "outputs": [],
   "source": [
    "# 文件关闭或缓冲区刷新之前，字符串内容存储在缓冲区，此时文件中还看不到写入的内容\n",
    "total_lines = None\n",
    "with open('test_data/io.txt', 'a+') as fh:\n",
    "    fh.seek(0)\n",
    "    total_lines = sum([1 for line in fh.readlines()])\n",
    "    if total_lines > 0:\n",
    "        fh.write('\\n')\n",
    "    # print(total_lines)\n",
    "    fh.write('write line {}'.format(total_lines+1))"
   ]
  },
  {
   "cell_type": "code",
   "execution_count": null,
   "id": "b0b2e7f0-08f4-468d-b9ed-9f6d3fe8df80",
   "metadata": {},
   "outputs": [],
   "source": []
  }
 ],
 "metadata": {
  "kernelspec": {
   "display_name": "Python 3 (ipykernel)",
   "language": "python",
   "name": "python3"
  },
  "language_info": {
   "codemirror_mode": {
    "name": "ipython",
    "version": 3
   },
   "file_extension": ".py",
   "mimetype": "text/x-python",
   "name": "python",
   "nbconvert_exporter": "python",
   "pygments_lexer": "ipython3",
   "version": "3.10.9"
  }
 },
 "nbformat": 4,
 "nbformat_minor": 5
}
