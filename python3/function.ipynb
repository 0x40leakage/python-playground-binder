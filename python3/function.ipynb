{
 "cells": [
  {
   "cell_type": "markdown",
   "id": "750f1763-e60e-42cc-aae3-605eaa581409",
   "metadata": {},
   "source": [
    "## 函数"
   ]
  },
  {
   "cell_type": "code",
   "execution_count": 50,
   "id": "85732dd8-e85d-4143-948d-a62ae39d68d5",
   "metadata": {
    "tags": []
   },
   "outputs": [],
   "source": [
    "def no_op():\n",
    "    # 空语句\n",
    "    pass"
   ]
  },
  {
   "cell_type": "markdown",
   "id": "edd620fa-c9ca-4d36-ad58-631c0821a0aa",
   "metadata": {
    "tags": []
   },
   "source": [
    "### 参数"
   ]
  },
  {
   "cell_type": "markdown",
   "id": "f9a2b024-92c8-437d-9044-62c48a9893eb",
   "metadata": {},
   "source": [
    "#### 参数类型"
   ]
  },
  {
   "cell_type": "markdown",
   "id": "fe4713ae-763a-45a8-ba5f-4f55d7fe4f0f",
   "metadata": {},
   "source": [
    "函数参数包括*位置参数*（Positional Argument）和*关键字参数*（Keyword Argument, Named Arguments）；"
   ]
  },
  {
   "cell_type": "code",
   "execution_count": 9,
   "id": "703ce93c-2cb0-48e5-b17d-dcad8fa08d0d",
   "metadata": {
    "tags": []
   },
   "outputs": [
    {
     "name": "stdout",
     "output_type": "stream",
     "text": [
      "print(value, ..., sep=' ', end='\\n', file=sys.stdout, flush=False)\n",
      "\n",
      "Prints the values to a stream, or to sys.stdout by default.\n",
      "Optional keyword arguments:\n",
      "file:  a file-like object (stream); defaults to the current sys.stdout.\n",
      "sep:   string inserted between values, default a space.\n",
      "end:   string appended after the last value, default a newline.\n",
      "flush: whether to forcibly flush the stream.\n"
     ]
    }
   ],
   "source": [
    "# 函数的 `__doc__` 属性保存函数的注释\n",
    "print(print.__doc__)"
   ]
  },
  {
   "cell_type": "markdown",
   "id": "656fd591-f254-4d95-a7f1-b4e00d640a20",
   "metadata": {},
   "source": [
    "#### 可变参数"
   ]
  },
  {
   "cell_type": "markdown",
   "id": "b8e5c7af-c3bd-4187-91b0-983e5f805c19",
   "metadata": {},
   "source": [
    "`*` 是可变参数的标识；\n",
    "- `*` 将多个参数打包成 tuple，用于传递多个非关键字参数；\n",
    "- `**` 将多个参数打包成字典，调用时参数必须成对出现并用等号区分键和值，用于传递多个关键字参数；"
   ]
  },
  {
   "cell_type": "code",
   "execution_count": 1,
   "id": "d47b5d31-47dd-4da8-a049-2b13bc326a57",
   "metadata": {
    "tags": []
   },
   "outputs": [
    {
     "name": "stdout",
     "output_type": "stream",
     "text": [
      "<class 'tuple'>\n",
      "10\n",
      "{'a': 1, 'b': 2}\n"
     ]
    }
   ],
   "source": [
    "def sum(*args):\n",
    "    print(type(args))\n",
    "    sum = 0\n",
    "    for idx in range(0, len(args)):\n",
    "        sum += args[idx]\n",
    "    return sum\n",
    "print(sum(1, 2, 3, 4))\n",
    "\n",
    "def foo(**kwargs):\n",
    "    if len(kwargs) == 0:\n",
    "        print(\"Empty\")\n",
    "    else:\n",
    "        print(kwargs)\n",
    "foo(a = 1, b = 2)"
   ]
  },
  {
   "cell_type": "markdown",
   "id": "2de8412c-6218-4287-a2e8-c19b60f10078",
   "metadata": {},
   "source": [
    "#### 默认参数"
   ]
  },
  {
   "cell_type": "markdown",
   "id": "63181db7-07a6-4a14-ab06-6d7047101f60",
   "metadata": {},
   "source": [
    "`function.__defaults__` 可以查看默认参数的值；"
   ]
  },
  {
   "cell_type": "code",
   "execution_count": 20,
   "id": "30111f48-cd00-4198-950c-fa8c71713299",
   "metadata": {
    "tags": []
   },
   "outputs": [
    {
     "name": "stdout",
     "output_type": "stream",
     "text": [
      "['END', 'END', 'END']\n",
      "['END']\n"
     ]
    }
   ],
   "source": [
    "# 默认参数务必 immutable\n",
    "def append_end_bug(l = []):\n",
    "    l.append('END')\n",
    "    return l\n",
    "append_end_bug()\n",
    "append_end_bug()\n",
    "# l 是引用类型，每次调用会被更新\n",
    "print(append_end_bug()) # ['END', 'END', 'END']\n",
    "\n",
    "def append_end_propoer(l = None):\n",
    "    if l is None:\n",
    "        l = []\n",
    "    l.append('END')\n",
    "    return l\n",
    "append_end_propoer()\n",
    "append_end_propoer()\n",
    "print(append_end_propoer())"
   ]
  },
  {
   "cell_type": "markdown",
   "id": "6a4f01b3-42f0-4678-bf86-32bc02d8dde8",
   "metadata": {},
   "source": [
    "#### packing, unpacking"
   ]
  },
  {
   "cell_type": "code",
   "execution_count": 5,
   "id": "671ea1cd-edec-4e43-b3a2-47e8715cc7b2",
   "metadata": {
    "tags": []
   },
   "outputs": [
    {
     "name": "stdout",
     "output_type": "stream",
     "text": [
      "1 2 3\n",
      "alice 11\n"
     ]
    }
   ],
   "source": [
    "# 可迭代对象（除字典）\n",
    "def sum_3(a, b, c): # unpacking\n",
    "    print(a, b, c)\n",
    "a_list = [1, 2, 3]\n",
    "sum_3(*a_list)\n",
    "\n",
    "\n",
    "\n",
    "# 字典类型\n",
    "def bar(name, age): # unpacking\n",
    "    print(name, age)\n",
    "a_dict = {'name': 'alice', 'age': 11}\n",
    "bar(**a_dict)"
   ]
  },
  {
   "cell_type": "markdown",
   "id": "42b35634-bccf-4a59-98ab-d7f247ee2102",
   "metadata": {
    "tags": []
   },
   "source": [
    "#### 传引用"
   ]
  },
  {
   "cell_type": "markdown",
   "id": "6d9a7ec2-9f12-43e3-ac26-002ace5781e7",
   "metadata": {
    "tags": []
   },
   "source": [
    "Python 中所有参数传递都是传引用；"
   ]
  },
  {
   "cell_type": "code",
   "execution_count": 31,
   "id": "cbeadcd5-110f-4c3f-a358-14c015516af6",
   "metadata": {
    "tags": []
   },
   "outputs": [
    {
     "name": "stdout",
     "output_type": "stream",
     "text": [
      "outside function, before invoking\t 140525695254768\n",
      "inside function, before mutation\t 140525695254768\n",
      "inside function, after mutation\t\t 140525695254800 different\n",
      "outside function, after invoking\t 140525695254768\n"
     ]
    }
   ],
   "source": [
    "def foo(x):\n",
    "    print('inside function, before mutation\\t', id(x))\n",
    "    x += 1\n",
    "    # 发生更新时实际上是对副本进行操作\n",
    "    print('inside function, after mutation\\t\\t', id(x), 'different')\n",
    "x = 1\n",
    "print('outside function, before invoking\\t', id(x))\n",
    "foo(x)\n",
    "print('outside function, after invoking\\t', id(x))"
   ]
  },
  {
   "cell_type": "markdown",
   "id": "06629347-e905-4156-b22c-d8d8e597bf5a",
   "metadata": {},
   "source": [
    "### 返回值"
   ]
  },
  {
   "cell_type": "markdown",
   "id": "90dfdb20-5db9-4157-88de-f860ee34ba68",
   "metadata": {},
   "source": [
    "Python 函数只能返回一个值，由于存在语法糖而看上去可以返回多个值；"
   ]
  },
  {
   "cell_type": "markdown",
   "id": "fde782f1-1f26-4406-b00a-6e165def4599",
   "metadata": {},
   "source": [
    "## 高阶函数"
   ]
  },
  {
   "cell_type": "markdown",
   "id": "2a3deab5-4d05-4bea-a4d5-524c170a7779",
   "metadata": {},
   "source": [
    "函数也是对象，可以作为函数参数和返回值（函数式编程的特征）；"
   ]
  },
  {
   "cell_type": "markdown",
   "id": "53ce29ca-db84-4aa0-a261-f388471a1239",
   "metadata": {
    "tags": []
   },
   "source": [
    "### `lambda`"
   ]
  },
  {
   "cell_type": "code",
   "execution_count": 34,
   "id": "77e749fe-dafe-4051-b57e-d963c334f2a7",
   "metadata": {
    "tags": []
   },
   "outputs": [],
   "source": [
    "# 匿名函数；只能有一个表达式，无需 return 语句，表达式的结果就是返回的结果\n",
    "lambda x, y: x + y;"
   ]
  },
  {
   "cell_type": "markdown",
   "id": "80693b3a-6d9e-46a3-801a-d5319a583f47",
   "metadata": {},
   "source": [
    "### `filter`"
   ]
  },
  {
   "cell_type": "markdown",
   "id": "1ac91051-70b0-4d5c-b8fd-612f037b36c1",
   "metadata": {},
   "source": [
    "保留返回 `True` 的元素；"
   ]
  },
  {
   "cell_type": "code",
   "execution_count": 40,
   "id": "ae20b785-68f8-46d7-a068-8aad4c1c892a",
   "metadata": {
    "tags": []
   },
   "outputs": [
    {
     "name": "stdout",
     "output_type": "stream",
     "text": [
      "[18, 9]\n"
     ]
    },
    {
     "data": {
      "text/plain": [
       "\u001b[0;31mInit signature:\u001b[0m \u001b[0mfilter\u001b[0m\u001b[0;34m(\u001b[0m\u001b[0mself\u001b[0m\u001b[0;34m,\u001b[0m \u001b[0;34m/\u001b[0m\u001b[0;34m,\u001b[0m \u001b[0;34m*\u001b[0m\u001b[0margs\u001b[0m\u001b[0;34m,\u001b[0m \u001b[0;34m**\u001b[0m\u001b[0mkwargs\u001b[0m\u001b[0;34m)\u001b[0m\u001b[0;34m\u001b[0m\u001b[0;34m\u001b[0m\u001b[0m\n",
       "\u001b[0;31mDocstring:\u001b[0m     \n",
       "filter(function or None, iterable) --> filter object\n",
       "\n",
       "Return an iterator yielding those items of iterable for which function(item)\n",
       "is true. If function is None, return the items that are true.\n",
       "\u001b[0;31mType:\u001b[0m           type\n",
       "\u001b[0;31mSubclasses:\u001b[0m     "
      ]
     },
     "metadata": {},
     "output_type": "display_data"
    }
   ],
   "source": [
    "a_list = [2, 18, 9, 22]\n",
    "print(list(filter(lambda x: x % 3 == 0, a_list)))\n",
    "filter?"
   ]
  },
  {
   "cell_type": "markdown",
   "id": "0686d849-f52e-4fb7-aef4-555945a3e49b",
   "metadata": {},
   "source": [
    "### `map`"
   ]
  },
  {
   "cell_type": "code",
   "execution_count": 42,
   "id": "ca1052fe-bcaa-4ac5-a985-dc980b5c60a8",
   "metadata": {
    "tags": []
   },
   "outputs": [
    {
     "name": "stdout",
     "output_type": "stream",
     "text": [
      "[5, 7, 9]\n"
     ]
    }
   ],
   "source": [
    "sum = map(lambda a, b: a + b, [1, 2, 3], [4, 5, 6])\n",
    "print(list(sum))"
   ]
  },
  {
   "cell_type": "markdown",
   "id": "86a0994f-6e94-4d29-87b2-39ffdd44887e",
   "metadata": {},
   "source": [
    "### `reduce`"
   ]
  },
  {
   "cell_type": "code",
   "execution_count": 49,
   "id": "44255361-d828-4cea-82e7-da104d99f478",
   "metadata": {
    "tags": []
   },
   "outputs": [
    {
     "name": "stdout",
     "output_type": "stream",
     "text": [
      "sum: 10\n",
      "max: 4\n"
     ]
    }
   ],
   "source": [
    "from functools import reduce\n",
    "\n",
    "a_list = [1, 2, 3, 4]\n",
    "print('sum:', reduce(lambda x, y: x + y, a_list))\n",
    "print('max:', reduce(lambda x, y: x if x > y else y, a_list))"
   ]
  },
  {
   "cell_type": "markdown",
   "id": "1f938398-34aa-482e-8e96-9d59ba723ca7",
   "metadata": {},
   "source": [
    "## Generator\n",
    "\n",
    "生成器是一个生成元素的函数；"
   ]
  },
  {
   "cell_type": "markdown",
   "id": "feb041a4-ac00-43c6-b3b6-40b2bc2f27cc",
   "metadata": {},
   "source": [
    "### Generator Expression"
   ]
  },
  {
   "cell_type": "code",
   "execution_count": 55,
   "id": "3290bf0b-4d9a-45c6-985b-a1b6a38371be",
   "metadata": {
    "tags": []
   },
   "outputs": [
    {
     "name": "stdout",
     "output_type": "stream",
     "text": [
      "<generator object <genexpr> at 0x7fce8eb46d50> \n",
      "type: <class 'generator'>\n",
      "0\n",
      "4\n",
      "16\n",
      "36\n",
      "64\n"
     ]
    }
   ],
   "source": [
    "n = 10\n",
    "## generator expression\n",
    "g = (x**2 for x in range(n) if x % 2 == 0)\n",
    "print(g, \"\\ntype:\", type(g))\n",
    "\n",
    "print(next(g))\n",
    "print(g.__next__())\n",
    "for other in g:\n",
    "    print(other)"
   ]
  },
  {
   "cell_type": "markdown",
   "id": "88022a2b-e9d2-4433-a01c-e31f986c804a",
   "metadata": {},
   "source": [
    "### `yield`"
   ]
  },
  {
   "cell_type": "code",
   "execution_count": 66,
   "id": "38b926ae-b436-49f8-bbdb-6154c29c3c95",
   "metadata": {
    "tags": []
   },
   "outputs": [
    {
     "name": "stdout",
     "output_type": "stream",
     "text": [
      "1 1 2 3 5 8 13 21 34 55 "
     ]
    },
    {
     "ename": "StopIteration",
     "evalue": "",
     "output_type": "error",
     "traceback": [
      "\u001b[0;31m---------------------------------------------------------------------------\u001b[0m",
      "\u001b[0;31mStopIteration\u001b[0m                             Traceback (most recent call last)",
      "Cell \u001b[0;32mIn[66], line 11\u001b[0m\n\u001b[1;32m      9\u001b[0m \u001b[38;5;28;01mfor\u001b[39;00m other \u001b[38;5;129;01min\u001b[39;00m fib_gen:\n\u001b[1;32m     10\u001b[0m     \u001b[38;5;28mprint\u001b[39m(other, end\u001b[38;5;241m=\u001b[39m\u001b[38;5;124m'\u001b[39m\u001b[38;5;124m \u001b[39m\u001b[38;5;124m'\u001b[39m)\n\u001b[0;32m---> 11\u001b[0m \u001b[38;5;28mprint\u001b[39m(\u001b[38;5;28;43mnext\u001b[39;49m\u001b[43m(\u001b[49m\u001b[43mfib_gen\u001b[49m\u001b[43m)\u001b[49m)\n",
      "\u001b[0;31mStopIteration\u001b[0m: "
     ]
    }
   ],
   "source": [
    "def fibonacci(t):\n",
    "    n, a, b = 0, 0, 1\n",
    "    while n < t:\n",
    "        yield b # do generate\n",
    "        a, b = b, a + b\n",
    "        n += 1\n",
    "    return 'done'\n",
    "fib_gen = fibonacci(10)\n",
    "for other in fib_gen:\n",
    "    print(other, end=' ')\n",
    "print(next(fib_gen))"
   ]
  },
  {
   "cell_type": "markdown",
   "id": "ee0977b3-e0af-484f-97d9-bb4e42587d21",
   "metadata": {},
   "source": [
    "### 执行过程\n",
    "\n",
    "- 每次调用 `next()` 时开始执行，遇到 `yield` 就暂停，下次从暂停处继续执行；\n",
    "- generator 中 `return` 的值只能在 `StopIteration` 时通过 `StopIteration.value` 获得；"
   ]
  },
  {
   "cell_type": "markdown",
   "id": "765debf6-46b8-4114-8938-5d233b562521",
   "metadata": {},
   "source": [
    "## Iterator\n",
    "\n",
    "迭代器可以理解是访问元素的指针；\n",
    "\n",
    "所有迭代器都实现了 `__iter__()` 和 `__next__()` 方法；\n",
    "- `__iter__()` 返回迭代器对象；\n",
    "- `__next__()` 返回下一个元素值；"
   ]
  },
  {
   "cell_type": "code",
   "execution_count": 68,
   "id": "6c143062-bd07-41ab-bcbe-4e69c4cc54b8",
   "metadata": {},
   "outputs": [
    {
     "name": "stdout",
     "output_type": "stream",
     "text": [
      "1\n",
      "2\n",
      "3\n",
      "out of bounds\n"
     ]
    }
   ],
   "source": [
    "a_list = [1, 2, 3]\n",
    "a_it = iter(a_list)\n",
    "while True:\n",
    "    try:\n",
    "        print(next(a_it))\n",
    "    except StopIteration:\n",
    "        print('out of bounds')\n",
    "        break"
   ]
  },
  {
   "cell_type": "code",
   "execution_count": 84,
   "id": "1c7e5eb1-16d6-4dc4-906b-e5764d37ef0a",
   "metadata": {
    "tags": []
   },
   "outputs": [
    {
     "name": "stdout",
     "output_type": "stream",
     "text": [
      "1 1 2 3 5 8 13 21 34 55 "
     ]
    },
    {
     "data": {
      "text/plain": [
       "\u001b[0;31mInit signature:\u001b[0m \u001b[0mislice\u001b[0m\u001b[0;34m(\u001b[0m\u001b[0mself\u001b[0m\u001b[0;34m,\u001b[0m \u001b[0;34m/\u001b[0m\u001b[0;34m,\u001b[0m \u001b[0;34m*\u001b[0m\u001b[0margs\u001b[0m\u001b[0;34m,\u001b[0m \u001b[0;34m**\u001b[0m\u001b[0mkwargs\u001b[0m\u001b[0;34m)\u001b[0m\u001b[0;34m\u001b[0m\u001b[0;34m\u001b[0m\u001b[0m\n",
       "\u001b[0;31mDocstring:\u001b[0m     \n",
       "islice(iterable, stop) --> islice object\n",
       "islice(iterable, start, stop[, step]) --> islice object\n",
       "\n",
       "Return an iterator whose next() method returns selected values from an\n",
       "iterable.  If start is specified, will skip all preceding elements;\n",
       "otherwise, start defaults to zero.  Step defaults to one.  If\n",
       "specified as another value, step determines how many values are\n",
       "skipped between successive calls.  Works like a slice() on a list\n",
       "but returns an iterator.\n",
       "\u001b[0;31mType:\u001b[0m           type\n",
       "\u001b[0;31mSubclasses:\u001b[0m     "
      ]
     },
     "metadata": {},
     "output_type": "display_data"
    }
   ],
   "source": [
    "from itertools import islice\n",
    "\n",
    "class Fibonacci:\n",
    "    def __init__(self):\n",
    "        self.previous, self.current = 0, 1\n",
    "    \n",
    "    def __iter__(self):\n",
    "        return self\n",
    "\n",
    "    def __next__(self):\n",
    "        value = self.current\n",
    "        self.previous, self.current = self.current, self.current + self.previous\n",
    "        return value\n",
    "\n",
    "fib = Fibonacci()\n",
    "fib_iter = islice(fib, 0, 10)\n",
    "# print(list(fib_iter))\n",
    "for ele in fib_iter:\n",
    "    print(ele, end=' ')\n",
    "    \n",
    "islice?"
   ]
  },
  {
   "cell_type": "code",
   "execution_count": null,
   "id": "f2e6db97-0e33-45e4-815d-401c02f8bc8b",
   "metadata": {},
   "outputs": [],
   "source": []
  }
 ],
 "metadata": {
  "kernelspec": {
   "display_name": "Python 3 (ipykernel)",
   "language": "python",
   "name": "python3"
  },
  "language_info": {
   "codemirror_mode": {
    "name": "ipython",
    "version": 3
   },
   "file_extension": ".py",
   "mimetype": "text/x-python",
   "name": "python",
   "nbconvert_exporter": "python",
   "pygments_lexer": "ipython3",
   "version": "3.10.9"
  }
 },
 "nbformat": 4,
 "nbformat_minor": 5
}
