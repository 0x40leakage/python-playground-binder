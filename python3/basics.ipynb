{
 "cells": [
  {
   "cell_type": "markdown",
   "id": "10467b90-445b-42fe-b978-763312f41580",
   "metadata": {
    "tags": []
   },
   "source": [
    "## Misc"
   ]
  },
  {
   "cell_type": "markdown",
   "id": "36e927b7-5cb3-4d06-bdb9-f7b6f2e1440b",
   "metadata": {},
   "source": [
    "### `__` 开头和结尾的变量是 Python 内部专用的标识"
   ]
  },
  {
   "cell_type": "code",
   "execution_count": 51,
   "id": "336a346b-b738-4cc7-8cda-ec9b81e183f0",
   "metadata": {
    "collapsed": true,
    "jupyter": {
     "outputs_hidden": true
    },
    "tags": []
   },
   "outputs": [
    {
     "name": "stdout",
     "output_type": "stream",
     "text": [
      "number of built-in functions (BIFs): 158\n",
      "Help on built-in function print in module builtins:\n",
      "\n",
      "print(...)\n",
      "    print(value, ..., sep=' ', end='\\n', file=sys.stdout, flush=False)\n",
      "    \n",
      "    Prints the values to a stream, or to sys.stdout by default.\n",
      "    Optional keyword arguments:\n",
      "    file:  a file-like object (stream); defaults to the current sys.stdout.\n",
      "    sep:   string inserted between values, default a space.\n",
      "    end:   string appended after the last value, default a newline.\n",
      "    flush: whether to forcibly flush the stream.\n",
      "\n",
      "Help on built-in function dir in module builtins:\n",
      "\n",
      "dir(...)\n",
      "    dir([object]) -> list of strings\n",
      "    \n",
      "    If called without an argument, return the names in the current scope.\n",
      "    Else, return an alphabetized list of names comprising (some of) the attributes\n",
      "    of the given object, and of attributes reachable from it.\n",
      "    If the object supplies a method named __dir__, it will be used; otherwise\n",
      "    the default dir() logic is used and returns:\n",
      "      for a module object: the module's attributes.\n",
      "      for a class object:  its attributes, and recursively the attributes\n",
      "        of its bases.\n",
      "      for any other object: its attributes, its class's attributes, and\n",
      "        recursively the attributes of its class's base classes.\n",
      "\n"
     ]
    }
   ],
   "source": [
    "built_in_functions = dir(__builtins__)\n",
    "print(\"number of built-in functions (BIFs):\", len(built_in_functions))\n",
    "index_of_bif_print = built_in_functions.index(\"print\")\n",
    "help(built_in_functions[index_of_bif_print])\n",
    "\n",
    "help(dir)\n",
    "# dir(str)"
   ]
  },
  {
   "cell_type": "markdown",
   "id": "0179a44f-265a-40b0-9251-a4bf3f9b7699",
   "metadata": {},
   "source": [
    "### ipython"
   ]
  },
  {
   "cell_type": "markdown",
   "id": "14d13911-b234-47e1-8d96-fbdfdc30eda4",
   "metadata": {
    "tags": []
   },
   "source": [
    "#### *magic functions* 以 `%` 开头"
   ]
  },
  {
   "cell_type": "code",
   "execution_count": 11,
   "id": "bffe7dd9-e53d-4b59-bb73-8418cfae3bf9",
   "metadata": {
    "tags": []
   },
   "outputs": [],
   "source": [
    "import numpy as np\n",
    "import matplotlib.pyplot as plt\n",
    "\n",
    "np.random.seed(1)\n",
    "x = np.random.rand(10)\n",
    "y = np.random.rand(10)\n",
    "colors = np.random.rand(10)"
   ]
  },
  {
   "cell_type": "code",
   "execution_count": 6,
   "id": "6c330d76-1cc7-454d-95ce-8d2953ffde0f",
   "metadata": {
    "tags": []
   },
   "outputs": [
    {
     "name": "stdout",
     "output_type": "stream",
     "text": [
      "2.82 µs ± 24.9 ns per loop (mean ± std. dev. of 7 runs, 100,000 loops each)\n"
     ]
    }
   ],
   "source": [
    "%timeit area = (40 * np.random.rand(20)) ** 2"
   ]
  },
  {
   "cell_type": "code",
   "execution_count": 54,
   "id": "dc72e802-71ee-463f-b20f-05edf3893524",
   "metadata": {
    "tags": []
   },
   "outputs": [
    {
     "data": {
      "application/json": {
       "cell": {
        "!": "OSMagics",
        "HTML": "Other",
        "SVG": "Other",
        "bash": "Other",
        "capture": "ExecutionMagics",
        "debug": "ExecutionMagics",
        "file": "Other",
        "html": "DisplayMagics",
        "javascript": "DisplayMagics",
        "js": "DisplayMagics",
        "latex": "DisplayMagics",
        "markdown": "DisplayMagics",
        "perl": "Other",
        "prun": "ExecutionMagics",
        "pypy": "Other",
        "python": "Other",
        "python2": "Other",
        "python3": "Other",
        "ruby": "Other",
        "script": "ScriptMagics",
        "sh": "Other",
        "svg": "DisplayMagics",
        "sx": "OSMagics",
        "system": "OSMagics",
        "time": "ExecutionMagics",
        "timeit": "ExecutionMagics",
        "writefile": "OSMagics"
       },
       "line": {
        "alias": "OSMagics",
        "alias_magic": "BasicMagics",
        "autoawait": "AsyncMagics",
        "autocall": "AutoMagics",
        "automagic": "AutoMagics",
        "autosave": "KernelMagics",
        "bookmark": "OSMagics",
        "cat": "Other",
        "cd": "OSMagics",
        "clear": "KernelMagics",
        "colors": "BasicMagics",
        "conda": "PackagingMagics",
        "config": "ConfigMagics",
        "connect_info": "KernelMagics",
        "cp": "Other",
        "debug": "ExecutionMagics",
        "dhist": "OSMagics",
        "dirs": "OSMagics",
        "doctest_mode": "BasicMagics",
        "ed": "Other",
        "edit": "KernelMagics",
        "env": "OSMagics",
        "gui": "BasicMagics",
        "hist": "Other",
        "history": "HistoryMagics",
        "killbgscripts": "ScriptMagics",
        "ldir": "Other",
        "less": "KernelMagics",
        "lf": "Other",
        "lk": "Other",
        "ll": "Other",
        "load": "CodeMagics",
        "load_ext": "ExtensionMagics",
        "loadpy": "CodeMagics",
        "logoff": "LoggingMagics",
        "logon": "LoggingMagics",
        "logstart": "LoggingMagics",
        "logstate": "LoggingMagics",
        "logstop": "LoggingMagics",
        "ls": "Other",
        "lsmagic": "BasicMagics",
        "lx": "Other",
        "macro": "ExecutionMagics",
        "magic": "BasicMagics",
        "man": "KernelMagics",
        "matplotlib": "PylabMagics",
        "mkdir": "Other",
        "more": "KernelMagics",
        "mv": "Other",
        "notebook": "BasicMagics",
        "page": "BasicMagics",
        "pastebin": "CodeMagics",
        "pdb": "ExecutionMagics",
        "pdef": "NamespaceMagics",
        "pdoc": "NamespaceMagics",
        "pfile": "NamespaceMagics",
        "pinfo": "NamespaceMagics",
        "pinfo2": "NamespaceMagics",
        "pip": "PackagingMagics",
        "popd": "OSMagics",
        "pprint": "BasicMagics",
        "precision": "BasicMagics",
        "prun": "ExecutionMagics",
        "psearch": "NamespaceMagics",
        "psource": "NamespaceMagics",
        "pushd": "OSMagics",
        "pwd": "OSMagics",
        "pycat": "OSMagics",
        "pylab": "PylabMagics",
        "qtconsole": "KernelMagics",
        "quickref": "BasicMagics",
        "recall": "HistoryMagics",
        "rehashx": "OSMagics",
        "reload_ext": "ExtensionMagics",
        "rep": "Other",
        "rerun": "HistoryMagics",
        "reset": "NamespaceMagics",
        "reset_selective": "NamespaceMagics",
        "rm": "Other",
        "rmdir": "Other",
        "run": "ExecutionMagics",
        "save": "CodeMagics",
        "sc": "OSMagics",
        "set_env": "OSMagics",
        "store": "StoreMagics",
        "sx": "OSMagics",
        "system": "OSMagics",
        "tb": "ExecutionMagics",
        "time": "ExecutionMagics",
        "timeit": "ExecutionMagics",
        "unalias": "OSMagics",
        "unload_ext": "ExtensionMagics",
        "who": "NamespaceMagics",
        "who_ls": "NamespaceMagics",
        "whos": "NamespaceMagics",
        "xdel": "NamespaceMagics",
        "xmode": "BasicMagics"
       }
      },
      "text/plain": [
       "Available line magics:\n",
       "%alias  %alias_magic  %autoawait  %autocall  %automagic  %autosave  %bookmark  %cat  %cd  %clear  %colors  %conda  %config  %connect_info  %cp  %debug  %dhist  %dirs  %doctest_mode  %ed  %edit  %env  %gui  %hist  %history  %killbgscripts  %ldir  %less  %lf  %lk  %ll  %load  %load_ext  %loadpy  %logoff  %logon  %logstart  %logstate  %logstop  %ls  %lsmagic  %lx  %macro  %magic  %man  %matplotlib  %mkdir  %more  %mv  %notebook  %page  %pastebin  %pdb  %pdef  %pdoc  %pfile  %pinfo  %pinfo2  %pip  %popd  %pprint  %precision  %prun  %psearch  %psource  %pushd  %pwd  %pycat  %pylab  %qtconsole  %quickref  %recall  %rehashx  %reload_ext  %rep  %rerun  %reset  %reset_selective  %rm  %rmdir  %run  %save  %sc  %set_env  %store  %sx  %system  %tb  %time  %timeit  %unalias  %unload_ext  %who  %who_ls  %whos  %xdel  %xmode\n",
       "\n",
       "Available cell magics:\n",
       "%%!  %%HTML  %%SVG  %%bash  %%capture  %%debug  %%file  %%html  %%javascript  %%js  %%latex  %%markdown  %%perl  %%prun  %%pypy  %%python  %%python2  %%python3  %%ruby  %%script  %%sh  %%svg  %%sx  %%system  %%time  %%timeit  %%writefile\n",
       "\n",
       "Automagic is ON, % prefix IS NOT needed for line magics."
      ]
     },
     "execution_count": 54,
     "metadata": {},
     "output_type": "execute_result"
    }
   ],
   "source": [
    "%matplotlib inline\n",
    "# %matplotlib qt\n",
    "\n",
    "# plt.scatter(x, y, s = area, c = colors, alpha = 0.4)\n",
    "# plt.show()\n",
    "\n",
    "%lsmagic"
   ]
  },
  {
   "cell_type": "markdown",
   "id": "7750432c-9fe9-439a-8fe1-35b936d2336e",
   "metadata": {
    "tags": []
   },
   "source": [
    "#### 函数提示信息"
   ]
  },
  {
   "cell_type": "code",
   "execution_count": 19,
   "id": "755c72df-ecdb-4487-8d1f-767f6fa53f80",
   "metadata": {
    "tags": []
   },
   "outputs": [
    {
     "data": {
      "text/plain": [
       "\u001b[0;31mDocstring:\u001b[0m\n",
       "print(value, ..., sep=' ', end='\\n', file=sys.stdout, flush=False)\n",
       "\n",
       "Prints the values to a stream, or to sys.stdout by default.\n",
       "Optional keyword arguments:\n",
       "file:  a file-like object (stream); defaults to the current sys.stdout.\n",
       "sep:   string inserted between values, default a space.\n",
       "end:   string appended after the last value, default a newline.\n",
       "flush: whether to forcibly flush the stream.\n",
       "\u001b[0;31mType:\u001b[0m      builtin_function_or_method"
      ]
     },
     "metadata": {},
     "output_type": "display_data"
    }
   ],
   "source": [
    "print?"
   ]
  },
  {
   "cell_type": "markdown",
   "id": "2551f06b-8b88-4e4f-b6fb-77f17e4b395a",
   "metadata": {
    "tags": []
   },
   "source": [
    "### 命令之前加上 `!` 可以执行 shell 命令"
   ]
  },
  {
   "cell_type": "code",
   "execution_count": 20,
   "id": "f31fb18f-0440-43ff-ba48-82619a6164ca",
   "metadata": {
    "tags": []
   },
   "outputs": [
    {
     "name": "stdout",
     "output_type": "stream",
     "text": [
      "/home/leakage/work/data_science\n"
     ]
    }
   ],
   "source": [
    "!pwd"
   ]
  },
  {
   "cell_type": "markdown",
   "id": "0b8fa647-5923-4575-893b-33555a07d8ea",
   "metadata": {},
   "source": [
    "### 赋值"
   ]
  },
  {
   "cell_type": "code",
   "execution_count": 21,
   "id": "511d3f78-c2b6-4f8f-9da3-4fa66cf6f77d",
   "metadata": {
    "tags": []
   },
   "outputs": [
    {
     "name": "stdout",
     "output_type": "stream",
     "text": [
      "100 100 100\n",
      "1 2 3\n"
     ]
    }
   ],
   "source": [
    "a = b = c = 100\n",
    "print(a, b, c)\n",
    "\n",
    "# 左右两侧都是 tuple\n",
    "a, b, c = 1, 2, 3\n",
    "print(a, b, c)"
   ]
  },
  {
   "cell_type": "markdown",
   "id": "ae988758-12df-41f5-ba45-3b5a3f35a526",
   "metadata": {},
   "source": [
    "### Python 中一切皆对象"
   ]
  },
  {
   "cell_type": "markdown",
   "id": "f94cba14-e64b-4aa2-89cd-43760323271f",
   "metadata": {},
   "source": [
    "## Boolean\n",
    "\n",
    "非 0 和非 null 都是 `True`；"
   ]
  },
  {
   "cell_type": "markdown",
   "id": "d0dbb61b-13ff-4314-9fd3-f6cb7aeccd80",
   "metadata": {},
   "source": [
    "## String"
   ]
  },
  {
   "cell_type": "code",
   "execution_count": 22,
   "id": "0eca3fe7-741b-4a71-9c5a-d9e87e29f026",
   "metadata": {
    "tags": []
   },
   "outputs": [
    {
     "name": "stdout",
     "output_type": "stream",
     "text": [
      "hello py\n",
      "hhh world py hhh\n"
     ]
    },
    {
     "data": {
      "text/plain": [
       "'+3.14'"
      ]
     },
     "execution_count": 22,
     "metadata": {},
     "output_type": "execute_result"
    }
   ],
   "source": [
    "# 依次填空\n",
    "print('{} {}'.format('hello', 'py'))\n",
    "# 指定顺序，多次出现\n",
    "print('{0} world {1} {0}'.format(\"hhh\", \"py\"))\n",
    "# : 后面可以指定输出格式\n",
    "'{:+.2f}'.format(3.1415926)"
   ]
  },
  {
   "cell_type": "markdown",
   "id": "d32c1b95-b37b-4c95-bcbf-33c795b3c8fd",
   "metadata": {
    "tags": []
   },
   "source": [
    "## List\n",
    "\n",
    "列表中的元素可以是不同类型；"
   ]
  },
  {
   "cell_type": "code",
   "execution_count": 96,
   "id": "7d7e9c30-bb3b-497f-905a-e71817f40e5d",
   "metadata": {
    "tags": []
   },
   "outputs": [
    {
     "name": "stdout",
     "output_type": "stream",
     "text": [
      "[1, 2, 3, 1, 2, 3, 1, 2, 3] [1, 2, 3, 4, 5]\n",
      "140545618778560 True\n",
      "False True\n",
      "False False\n",
      "[('orange', 0, 3), ('apple', 1, 4), ('banana', 2, 5), ('strawberry', 3, 6)]\n",
      "[(0, 'orange'), (1, 'apple'), (2, 'banana'), (3, 'strawberry')]\n"
     ]
    }
   ],
   "source": [
    "import copy as cp\n",
    "\n",
    "a = [1, 2, 3]\n",
    "c = [4, 5]\n",
    "# 乘法，加法\n",
    "print(a * 3, a+c)\n",
    "\n",
    "# 引用\n",
    "b = a\n",
    "print(id(a), id(a) == id(b)) # true\n",
    "\n",
    "a = [1, 2, [3, 4]]\n",
    "sa = cp.copy(a)\n",
    "# 浅拷贝\n",
    "print(id(a) == id(sa), id(a[2]) == id(sa[2])) # False, True\n",
    "# 深拷贝\n",
    "da = cp.deepcopy(a)\n",
    "print(id(a) == id(da), id(a[2]) == id(da[2])) # False, False\n",
    "\n",
    "# zip：接合多个列表\n",
    "fruits = ['orange', 'apple', 'banana', 'strawberry']\n",
    "number_of_fruits = len(fruits)\n",
    "offset = 3\n",
    "print(list(zip(fruits, range(number_of_fruits), range(offset, offset+number_of_fruits))))\n",
    "\n",
    "# enumerate：将列表打包成 tuple\n",
    "print(list(enumerate(fruits)))"
   ]
  },
  {
   "cell_type": "markdown",
   "id": "e873a9c3-895b-4c26-8a92-f8132ed010b4",
   "metadata": {},
   "source": [
    "## Tuple\n",
    "\n",
    "tuple 中的元素不能修改；"
   ]
  },
  {
   "cell_type": "code",
   "execution_count": 2,
   "id": "ae7ca1d7-27f8-4c52-835d-a2e06ba71c88",
   "metadata": {
    "tags": []
   },
   "outputs": [
    {
     "name": "stdout",
     "output_type": "stream",
     "text": [
      "<class 'tuple'> <class 'int'>\n",
      "4 5 6\n"
     ]
    }
   ],
   "source": [
    "empty_tuple = ()\n",
    "tup1 = (100,)\n",
    "not_tup = (100)\n",
    "a_tuple = (1, 2, 3)\n",
    "b_tuple = 4, 5, 6\n",
    "print(type(tup1), type(not_tup))\n",
    "\n",
    "# unpacking\n",
    "c, d, e = b_tuple\n",
    "print(c, d, e)"
   ]
  },
  {
   "cell_type": "markdown",
   "id": "484a83e2-4711-47f8-98f8-cd28728cdb33",
   "metadata": {},
   "source": [
    "## Dictionary"
   ]
  },
  {
   "cell_type": "code",
   "execution_count": 76,
   "id": "354b3656-a142-46de-a5c9-90c2dd183bc3",
   "metadata": {
    "tags": []
   },
   "outputs": [],
   "source": [
    "a_dict = {'a': 1, '2020': [1, 3], 100: ('hello', 'world')}"
   ]
  },
  {
   "cell_type": "markdown",
   "id": "41fdebc8-3ff2-4bd5-88d6-2258238f3384",
   "metadata": {},
   "source": [
    "## Set"
   ]
  },
  {
   "cell_type": "code",
   "execution_count": 77,
   "id": "f028eba9-62a4-4f93-82e6-15f8e79e0eeb",
   "metadata": {
    "tags": []
   },
   "outputs": [
    {
     "name": "stdout",
     "output_type": "stream",
     "text": [
      "{1, 2, 3}\n"
     ]
    }
   ],
   "source": [
    "a_set = {1, 2, 3, 3}\n",
    "print(set(a_set))"
   ]
  },
  {
   "cell_type": "markdown",
   "id": "43395e0e-12c7-4832-a59f-136d4a9f9651",
   "metadata": {},
   "source": [
    "## Control Flow"
   ]
  },
  {
   "cell_type": "code",
   "execution_count": 91,
   "id": "9b24085b-40ed-417b-b8ad-24b8c9d5ce96",
   "metadata": {
    "tags": []
   },
   "outputs": [
    {
     "name": "stdout",
     "output_type": "stream",
     "text": [
      "1\n",
      "0 2 4 \n",
      "list[0] = a,list[1] = b,list[2] = c,"
     ]
    }
   ],
   "source": [
    "x, y = 1, 2\n",
    "small = x if x < y else y\n",
    "print(small)\n",
    "      \n",
    "for i in range(0, 6, 2):\n",
    "    print(i, end=\" \")\n",
    "print()\n",
    "for idx, ele in enumerate(['a', 'b', 'c']):\n",
    "    print('list[{}] = {}'.format(idx, ele), end=\",\")"
   ]
  },
  {
   "cell_type": "markdown",
   "id": "7767bf54-4a8d-4530-9c60-98c735749102",
   "metadata": {},
   "source": [
    "### 推导式 comprehensions"
   ]
  },
  {
   "cell_type": "code",
   "execution_count": 25,
   "id": "14e65a3c-f4c5-451e-a72c-ecedc1ad4b0e",
   "metadata": {
    "tags": []
   },
   "outputs": [
    {
     "name": "stdout",
     "output_type": "stream",
     "text": [
      "[4, 9]\n",
      "[1, 2, 3, 4]\n",
      "[(1, 3), (1, 4), (2, 3), (2, 1), (2, 4), (3, 1), (3, 4)]\n"
     ]
    }
   ],
   "source": [
    "square_list = [x**2 for x in range(4) if x > 1]\n",
    "print(square_list)\n",
    "\n",
    "flat_list = [ele for nested_list in [[1, 2], [3, 4]] for ele in nested_list]\n",
    "print(flat_list)\n",
    "\n",
    "tuple_list = [(x, y) for x in [1, 2, 3] for y in [3, 1, 4] if x != y]\n",
    "print(tuple_list)\n",
    "\n",
    "# names = ['Bob', 'JOHN', 'alice', 'bob', 'ALICE', 'J', 'Bob']\n",
    "# print(list(name[0].upper() + name[1:].lower() for name in names if len(name) > 2))"
   ]
  },
  {
   "cell_type": "markdown",
   "id": "f9a9b18a-2526-45ff-b24a-36f8b4660c1d",
   "metadata": {},
   "source": [
    "## Modules\n",
    "\n",
    "模块（module）指单个文件（不包括 `.py` 后缀），`import` 以文件为单位；\n",
    "\n",
    "包（package）用来组织模块，引用方式是 `package_name.module_name`；\n",
    "\n",
    "包目录下要有一个 `__init__.py` 文件，告知 Python 解释器此目录被标记成一个包；\n",
    "\n",
    "包的 `__all__` 定义了 `import *` 时会被导入的所有模块；"
   ]
  },
  {
   "cell_type": "code",
   "execution_count": 109,
   "id": "55bbd1f4-7681-4056-ad47-c666f4ee41f7",
   "metadata": {
    "tags": []
   },
   "outputs": [
    {
     "name": "stdout",
     "output_type": "stream",
     "text": [
      "['/home/leakage/work/data_science', '/opt/conda/lib/python310.zip', '/opt/conda/lib/python3.10', '/opt/conda/lib/python3.10/lib-dynload', '', '/opt/conda/lib/python3.10/site-packages']\n"
     ]
    }
   ],
   "source": [
    "import time\n",
    "import time as t\n",
    "from time import time as std_time, localtime\n",
    "# from time import *\n",
    "\n",
    "import sys\n",
    "# module search path\n",
    "print(sys.path)"
   ]
  },
  {
   "cell_type": "markdown",
   "id": "1758eadc-6ee2-4c60-82e3-089a6804e02e",
   "metadata": {},
   "source": [
    "## 异常处理"
   ]
  },
  {
   "cell_type": "code",
   "execution_count": 27,
   "id": "d3ba29f7-c2d7-4998-8513-35567980a0f8",
   "metadata": {
    "tags": []
   },
   "outputs": [
    {
     "name": "stdout",
     "output_type": "stream",
     "text": [
      "ZeroDivisionError: division by zero\n",
      "finally\n"
     ]
    }
   ],
   "source": [
    "try:\n",
    "    1 / 0\n",
    "except ZeroDivisionError as err:\n",
    "    print('ZeroDivisionError:', err)\n",
    "finally:\n",
    "    print('finally')"
   ]
  },
  {
   "cell_type": "markdown",
   "id": "25d64221-06d5-4a1b-97c7-12105db703cc",
   "metadata": {},
   "source": [
    "## 调试"
   ]
  },
  {
   "cell_type": "code",
   "execution_count": 31,
   "id": "2ac8a69d-0134-486c-9f38-f489eb41600f",
   "metadata": {
    "tags": []
   },
   "outputs": [
    {
     "name": "stdout",
     "output_type": "stream",
     "text": [
      "2.0\n"
     ]
    },
    {
     "ename": "AssertionError",
     "evalue": "score list is empty",
     "output_type": "error",
     "traceback": [
      "\u001b[0;31m---------------------------------------------------------------------------\u001b[0m",
      "\u001b[0;31mAssertionError\u001b[0m                            Traceback (most recent call last)",
      "Cell \u001b[0;32mIn[31], line 5\u001b[0m\n\u001b[1;32m      3\u001b[0m     \u001b[38;5;28;01mreturn\u001b[39;00m \u001b[38;5;28msum\u001b[39m(score_list) \u001b[38;5;241m/\u001b[39m \u001b[38;5;28mlen\u001b[39m(score_list)\n\u001b[1;32m      4\u001b[0m \u001b[38;5;28mprint\u001b[39m(average([\u001b[38;5;241m1\u001b[39m, \u001b[38;5;241m2\u001b[39m, \u001b[38;5;241m3\u001b[39m]))\n\u001b[0;32m----> 5\u001b[0m \u001b[43maverage\u001b[49m\u001b[43m(\u001b[49m\u001b[43m[\u001b[49m\u001b[43m]\u001b[49m\u001b[43m)\u001b[49m\n",
      "Cell \u001b[0;32mIn[31], line 2\u001b[0m, in \u001b[0;36maverage\u001b[0;34m(score_list)\u001b[0m\n\u001b[1;32m      1\u001b[0m \u001b[38;5;28;01mdef\u001b[39;00m \u001b[38;5;21maverage\u001b[39m(score_list):\n\u001b[0;32m----> 2\u001b[0m     \u001b[38;5;28;01massert\u001b[39;00m \u001b[38;5;28mlen\u001b[39m(score_list) \u001b[38;5;241m>\u001b[39m \u001b[38;5;241m0\u001b[39m, \u001b[38;5;124m'\u001b[39m\u001b[38;5;124mscore list is empty\u001b[39m\u001b[38;5;124m'\u001b[39m\n\u001b[1;32m      3\u001b[0m     \u001b[38;5;28;01mreturn\u001b[39;00m \u001b[38;5;28msum\u001b[39m(score_list) \u001b[38;5;241m/\u001b[39m \u001b[38;5;28mlen\u001b[39m(score_list)\n",
      "\u001b[0;31mAssertionError\u001b[0m: score list is empty"
     ]
    }
   ],
   "source": [
    "def average(score_list):\n",
    "    assert len(score_list) > 0, 'score list is empty'\n",
    "    return sum(score_list) / len(score_list)\n",
    "print(average([1, 2, 3]))\n",
    "average([])"
   ]
  },
  {
   "cell_type": "code",
   "execution_count": null,
   "id": "36172b94-59f1-4c44-b2aa-524d7b04eb87",
   "metadata": {},
   "outputs": [],
   "source": []
  }
 ],
 "metadata": {
  "kernelspec": {
   "display_name": "Python 3 (ipykernel)",
   "language": "python",
   "name": "python3"
  },
  "language_info": {
   "codemirror_mode": {
    "name": "ipython",
    "version": 3
   },
   "file_extension": ".py",
   "mimetype": "text/x-python",
   "name": "python",
   "nbconvert_exporter": "python",
   "pygments_lexer": "ipython3",
   "version": "3.10.9"
  },
  "toc-autonumbering": false,
  "toc-showcode": false,
  "toc-showmarkdowntxt": false,
  "toc-showtags": false
 },
 "nbformat": 4,
 "nbformat_minor": 5
}
