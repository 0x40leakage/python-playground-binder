{
 "cells": [
  {
   "cell_type": "markdown",
   "id": "f0b6c7c8-93e1-4a62-88a2-f9aef7a873ad",
   "metadata": {},
   "source": [
    "`__init__` 是构造函数；\n",
    "\n",
    "`__` 开头的成员是私有成员，包括私有属性和私有方法；\n",
    "- 私有成员可以这样访问：`instance._<class_name>__xxx`，所以严格来说 Python 没有私有成员；\n",
    "- 私有方法不能被继承；\n",
    "\n",
    "`_xxx` 表示保护成员，不能通过 `from module import *` 的方式导入；保护成员只对自己和子类开放访问权限；\n",
    "\n",
    "类中方法的第一个参数必须是对象实例，通常命名为 `self`；\n",
    "\n",
    "实例可以添加新属性，只对该实例有效，不会影响其他实例；"
   ]
  },
  {
   "cell_type": "code",
   "execution_count": 16,
   "id": "42a254e8-bde0-4453-84aa-581f321fd58d",
   "metadata": {
    "tags": []
   },
   "outputs": [
    {
     "name": "stdout",
     "output_type": "stream",
     "text": [
      "class member\n",
      "70\n",
      "__foo\n",
      "name: ho age: 3 weight: 70\n"
     ]
    }
   ],
   "source": [
    "class Person:\n",
    "    class_member = 'class member'\n",
    "    def __init__(self, name, age, weight):\n",
    "        self.name = name\n",
    "        self.age = age\n",
    "        self.__weight = weight\n",
    "    def report_person(self):\n",
    "        print('name:', self.name, 'age:', self.age, 'weight:', self.__weight)\n",
    "    def __foo(self):\n",
    "        print(\"__foo\")\n",
    "\n",
    "a_person = Person(\"ho\", 3, 70)\n",
    "print(Person.class_member)\n",
    "print(a_person._Person__weight)\n",
    "a_person._Person__foo()\n",
    "a_person.report_person()"
   ]
  },
  {
   "cell_type": "markdown",
   "id": "b8a6498d-2506-45ce-a973-1e71937a3e12",
   "metadata": {},
   "source": [
    "## 继承\n",
    "\n",
    "对基类中方法的查找顺序是从左到右；"
   ]
  },
  {
   "cell_type": "code",
   "execution_count": 19,
   "id": "86d5ed23-8e83-483a-8b1b-0980c6057af8",
   "metadata": {
    "tags": []
   },
   "outputs": [
    {
     "name": "stdout",
     "output_type": "stream",
     "text": [
      "name: la age: 3 weight: 45\n"
     ]
    }
   ],
   "source": [
    "# class DerivedClass(Base_Class_1, [, Base_Class_2, ...])\n",
    "\n",
    "class Student(Person):\n",
    "    def __init__(self, name, age, weight, grade):\n",
    "        # Person.__init__(self, name, age, weight)\n",
    "        super().__init__(name, age, weight)\n",
    "        self.grade = grade\n",
    "a_student = Student('la', 3, 45, 7)\n",
    "a_student.report_person()"
   ]
  },
  {
   "cell_type": "code",
   "execution_count": null,
   "id": "2f259bc6-2f74-4f33-aade-44a5f782b41a",
   "metadata": {},
   "outputs": [],
   "source": []
  }
 ],
 "metadata": {
  "kernelspec": {
   "display_name": "Python 3 (ipykernel)",
   "language": "python",
   "name": "python3"
  },
  "language_info": {
   "codemirror_mode": {
    "name": "ipython",
    "version": 3
   },
   "file_extension": ".py",
   "mimetype": "text/x-python",
   "name": "python",
   "nbconvert_exporter": "python",
   "pygments_lexer": "ipython3",
   "version": "3.10.9"
  }
 },
 "nbformat": 4,
 "nbformat_minor": 5
}
